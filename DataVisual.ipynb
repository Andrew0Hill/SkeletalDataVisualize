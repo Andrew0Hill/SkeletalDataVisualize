{
 "cells": [
  {
   "cell_type": "code",
   "execution_count": null,
   "metadata": {},
   "outputs": [],
   "source": [
    "%matplotlib notebook\n",
    "import matplotlib.pyplot as plt\n",
    "import numpy as np\n",
    "import pandas as pd\n",
    "import glob\n",
    "from os.path import join\n",
    "from os import stat\n",
    "from mpl_toolkits import mplot3d as mpl3\n",
    "from matplotlib.animation import FuncAnimation\n",
    "\n",
    "# Number of joints used.\n",
    "NUM_JOINTS = 20\n",
    "\n",
    "# File directory for the data. Should point to the directory that contains all of the SIDs (numbered folders).\n",
    "FILE_DIRECTORY = \"C:\\\\Users\\\\96ahi\\\\PycharmProjects\\\\SkeletalDataVisualize\\\\Data Collection\\\\Data\\\\data\\\\Data\\\\\""
   ]
  },
  {
   "cell_type": "markdown",
   "metadata": {},
   "source": [
    "## Read in data from all SIDs in the path"
   ]
  },
  {
   "cell_type": "code",
   "execution_count": null,
   "metadata": {
    "scrolled": true
   },
   "outputs": [],
   "source": [
    "dirs = glob.glob(join(FILE_DIRECTORY,\"*\",\"\"))\n",
    "data_dict = {}\n",
    "for d_path in dirs:\n",
    "    d_name = d_path.rsplit(maxsplit=2,sep=\"\\\\\")[1]\n",
    "    data_dict[d_name] = []\n",
    "    for data_file in glob.glob(join(d_path,\"*.txt\")):\n",
    "        dfile_name = data_file.rsplit(maxsplit=1,sep=\"\\\\\")[1]\n",
    "        if stat(data_file).st_size > 0:\n",
    "            df = pd.read_csv(data_file,header=None,sep=\";\")\n",
    "            trl_lines = len(df) % NUM_JOINTS\n",
    "            if trl_lines is not 0:\n",
    "                end_idx = len(df) - trl_lines\n",
    "                print(\"File '%s' has %d trailing lines, ignoring.\" % (data_file,trl_lines))\n",
    "                df = df[:end_idx]\n",
    "            frames = np.reshape(df.values[:,1:4],(-1,NUM_JOINTS,3)).astype(np.float32)\n",
    "            data_dict[d_name].append((frames,dfile_name))\n",
    "        else:\n",
    "            print(\"File '%s' is empty, ignoring.\" % data_file)\n",
    "print(\"Read complete.\")"
   ]
  },
  {
   "cell_type": "markdown",
   "metadata": {},
   "source": [
    "## Build Animation Update Function"
   ]
  },
  {
   "cell_type": "code",
   "execution_count": null,
   "metadata": {},
   "outputs": [],
   "source": [
    "def update_func(frame_num,data,plot,mp,draw_joints,draw_links):\n",
    "    global spine,l_arm,l_leg,r_arm,r_leg\n",
    "    print(frame_num)\n",
    "    if draw_joints:\n",
    "        plot[0].set_data(data[frame_num,:,mp[0]],data[frame_num,:,mp[1]])\n",
    "        plot[0].set_3d_properties(data[frame_num,:,mp[2]])\n",
    "    if draw_links:\n",
    "        plot[1].set_data(data[frame_num,l_arm,mp[0]],data[frame_num,l_arm,mp[1]])\n",
    "        plot[1].set_3d_properties(data[frame_num,l_arm,mp[2]])\n",
    "\n",
    "        plot[2].set_data(data[frame_num,r_arm,mp[0]],data[frame_num,r_arm,mp[1]])\n",
    "        plot[2].set_3d_properties(data[frame_num,r_arm,mp[2]])\n",
    "\n",
    "        plot[3].set_data(data[frame_num,l_leg,mp[0]],data[frame_num,l_leg,mp[1]])\n",
    "        plot[3].set_3d_properties(data[frame_num,l_leg,mp[2]])\n",
    "\n",
    "        plot[4].set_data(data[frame_num,r_leg,mp[0]],data[frame_num,r_leg,mp[1]])\n",
    "        plot[4].set_3d_properties(data[frame_num,r_leg,mp[2]])\n",
    "\n",
    "        plot[5].set_data(data[frame_num,spine,mp[0]],data[frame_num,spine,mp[1]])\n",
    "        plot[5].set_3d_properties(data[frame_num,spine,mp[2]])\n",
    "    return plot"
   ]
  },
  {
   "cell_type": "markdown",
   "metadata": {},
   "source": [
    "## Set up Coordinate Mapping and Joint Linkages"
   ]
  },
  {
   "cell_type": "code",
   "execution_count": null,
   "metadata": {},
   "outputs": [],
   "source": [
    "    # Coordinate mapping for display\n",
    "    cm = {0:2,1:0,2:1}\n",
    "    \n",
    "    spine = np.array([0,1,10,11])\n",
    "    l_arm = np.array([1,3,5,7,9])\n",
    "    l_leg = np.array([11,13,15,17,19])\n",
    "    r_arm = np.array([1,2,4,6,8])\n",
    "    r_leg = np.array([11,12,14,16,18])"
   ]
  },
  {
   "cell_type": "markdown",
   "metadata": {},
   "source": [
    "## Build Data Visualization Function"
   ]
  },
  {
   "cell_type": "code",
   "execution_count": null,
   "metadata": {},
   "outputs": [],
   "source": [
    "def visualize_data(data_frame, draw_joints=True, draw_links=True,speed=100):\n",
    "    in_frames = data_frame[0]\n",
    "    file_name = data_frame[1]\n",
    "    # Get references to coordinate mapping and linkages.\n",
    "    global cm,spine,l_arm,l_leg,r_arm,r_leg\n",
    "    # Create new figure\n",
    "    fig = plt.figure()\n",
    "    # Calculate axis max and min\n",
    "    axis_max = in_frames.max(axis=(0,1))\n",
    "    axis_min = in_frames.min(axis=(0,1))\n",
    "    # Set padding for visualization\n",
    "    pad = 0.5\n",
    "    \n",
    "    # Build the 3D display area\n",
    "    ax = mpl3.Axes3D(fig)\n",
    "    ax.set_xlim(axis_min[cm[0]]-pad,axis_max[cm[0]]+pad)\n",
    "    ax.set_ylim(axis_min[cm[1]]-pad,axis_max[cm[1]]+pad)\n",
    "    ax.set_zlim(axis_min[cm[2]],axis_max[cm[2]]+pad)\n",
    "    ax.set_xlabel(\"X\")\n",
    "    ax.set_ylabel(\"Y\")\n",
    "    ax.set_zlabel(\"Z\")\n",
    "    ax.set_title(file_name)\n",
    "    # Set initial joint states\n",
    "    if draw_joints:\n",
    "        joint_p, = ax.plot(in_frames[0,:,cm[0]],in_frames[0,:,cm[1]],in_frames[0,:,cm[2]],linestyle=\"\",marker=\"o\")\n",
    "    if draw_links:\n",
    "        larm_p, = ax.plot(in_frames[0,l_arm,cm[0]],in_frames[0,l_arm,cm[1]],in_frames[0,l_arm,cm[2]])\n",
    "        rarm_p, = ax.plot(in_frames[0,r_arm,cm[0]],in_frames[0,r_arm,cm[1]],in_frames[0,r_arm,cm[2]])\n",
    "        lleg_p, = ax.plot(in_frames[0,l_leg,cm[0]],in_frames[0,l_leg,cm[1]],in_frames[0,l_leg,cm[2]])\n",
    "        rleg_p, = ax.plot(in_frames[0,r_leg,cm[0]],in_frames[0,r_leg,cm[1]],in_frames[0,r_leg,cm[2]])\n",
    "        spine_p, = ax.plot(in_frames[0,spine,cm[0]],in_frames[0,spine,cm[1]],in_frames[0,spine,cm[2]])\n",
    "    \n",
    "    update_func(0,in_frames,(joint_p,larm_p,rarm_p,lleg_p,rleg_p,spine_p),cm,draw_joints,draw_links)\n",
    "    \n",
    "    # Create animation\n",
    "    anim = FuncAnimation(fig,update_func,\n",
    "                         frames=in_frames.shape[0],\n",
    "                         fargs=(in_frames,\n",
    "                                (joint_p,larm_p,rarm_p,lleg_p,rleg_p,spine_p),\n",
    "                                cm,\n",
    "                                draw_joints,\n",
    "                                draw_links),\n",
    "                         interval=speed,\n",
    "                         blit=True)\n",
    "    return anim"
   ]
  },
  {
   "cell_type": "markdown",
   "metadata": {},
   "source": [
    "## List data keys"
   ]
  },
  {
   "cell_type": "code",
   "execution_count": null,
   "metadata": {
    "scrolled": true
   },
   "outputs": [],
   "source": [
    "for key in data_dict:\n",
    "    print(key)"
   ]
  },
  {
   "cell_type": "code",
   "execution_count": null,
   "metadata": {},
   "outputs": [],
   "source": [
    "visualize_data(data_dict[\"0161134471\"][0],draw_joints=True,draw_links=True,speed=100)"
   ]
  }
 ],
 "metadata": {
  "kernelspec": {
   "display_name": "Python 3",
   "language": "python",
   "name": "python3"
  },
  "language_info": {
   "codemirror_mode": {
    "name": "ipython",
    "version": 3
   },
   "file_extension": ".py",
   "mimetype": "text/x-python",
   "name": "python",
   "nbconvert_exporter": "python",
   "pygments_lexer": "ipython3",
   "version": "3.6.4"
  }
 },
 "nbformat": 4,
 "nbformat_minor": 1
}
